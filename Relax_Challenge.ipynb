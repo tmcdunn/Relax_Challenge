{
 "cells": [
  {
   "cell_type": "markdown",
   "metadata": {},
   "source": [
    "# Relax Challenge\n",
    "\n",
    "Tamara Monge\n",
    "\n",
    "### 1. Importing"
   ]
  },
  {
   "cell_type": "code",
   "execution_count": 1,
   "metadata": {
    "collapsed": true
   },
   "outputs": [],
   "source": [
    "# Standard libraries\n",
    "import pandas as pd\n",
    "import numpy as np\n",
    "from time import time\n",
    "from datetime import datetime, date, timedelta\n",
    "import calendar\n",
    "from IPython.core.interactiveshell import InteractiveShell\n",
    "InteractiveShell.ast_node_interactivity = \"all\" \n",
    "\n",
    "# Plotting\n",
    "import matplotlib.pyplot as plt\n",
    "%matplotlib inline \n",
    "\n",
    "# supervised learning\n",
    "from sklearn.model_selection import train_test_split\n",
    "from sklearn.metrics import accuracy_score, precision_score, recall_score, f1_score   \n",
    "from sklearn.ensemble import RandomForestClassifier"
   ]
  },
  {
   "cell_type": "code",
   "execution_count": 2,
   "metadata": {
    "collapsed": true
   },
   "outputs": [],
   "source": [
    "# Import datasets\n",
    "df1 = pd.read_csv('takehome_users.csv', header=0, parse_dates=True, encoding = 'ISO-8859-1')\n",
    "df2 = pd.read_csv('takehome_user_engagement.csv', header=0, parse_dates=True)"
   ]
  },
  {
   "cell_type": "code",
   "execution_count": 3,
   "metadata": {},
   "outputs": [
    {
     "name": "stdout",
     "output_type": "stream",
     "text": [
      "<class 'pandas.core.frame.DataFrame'>\n",
      "RangeIndex: 12000 entries, 0 to 11999\n",
      "Data columns (total 10 columns):\n",
      "object_id                     12000 non-null int64\n",
      "creation_time                 12000 non-null object\n",
      "name                          12000 non-null object\n",
      "email                         12000 non-null object\n",
      "creation_source               12000 non-null object\n",
      "last_session_creation_time    8823 non-null float64\n",
      "opted_in_to_mailing_list      12000 non-null int64\n",
      "enabled_for_marketing_drip    12000 non-null int64\n",
      "org_id                        12000 non-null int64\n",
      "invited_by_user_id            6417 non-null float64\n",
      "dtypes: float64(2), int64(4), object(4)\n",
      "memory usage: 937.6+ KB\n"
     ]
    }
   ],
   "source": [
    "df1.info()"
   ]
  },
  {
   "cell_type": "code",
   "execution_count": 4,
   "metadata": {},
   "outputs": [
    {
     "name": "stdout",
     "output_type": "stream",
     "text": [
      "<class 'pandas.core.frame.DataFrame'>\n",
      "RangeIndex: 207917 entries, 0 to 207916\n",
      "Data columns (total 3 columns):\n",
      "time_stamp    207917 non-null object\n",
      "user_id       207917 non-null int64\n",
      "visited       207917 non-null int64\n",
      "dtypes: int64(2), object(1)\n",
      "memory usage: 4.8+ MB\n"
     ]
    }
   ],
   "source": [
    "df2.info()"
   ]
  },
  {
   "cell_type": "markdown",
   "metadata": {},
   "source": [
    "### 2. Wrangling"
   ]
  },
  {
   "cell_type": "code",
   "execution_count": 5,
   "metadata": {},
   "outputs": [
    {
     "name": "stdout",
     "output_type": "stream",
     "text": [
      "<class 'pandas.core.frame.DataFrame'>\n",
      "Int64Index: 211094 entries, 0 to 211093\n",
      "Data columns (total 11 columns):\n",
      "time_stamp                    207917 non-null object\n",
      "visited                       207917 non-null float64\n",
      "object_id                     211094 non-null int64\n",
      "creation_time                 211094 non-null object\n",
      "name                          211094 non-null object\n",
      "email                         211094 non-null object\n",
      "creation_source               211094 non-null object\n",
      "opted_in_to_mailing_list      211094 non-null int64\n",
      "enabled_for_marketing_drip    211094 non-null int64\n",
      "org_id                        211094 non-null int64\n",
      "invited_by_user_id            118528 non-null float64\n",
      "dtypes: float64(2), int64(4), object(5)\n",
      "memory usage: 19.3+ MB\n"
     ]
    },
    {
     "data": {
      "text/html": [
       "<div>\n",
       "<style scoped>\n",
       "    .dataframe tbody tr th:only-of-type {\n",
       "        vertical-align: middle;\n",
       "    }\n",
       "\n",
       "    .dataframe tbody tr th {\n",
       "        vertical-align: top;\n",
       "    }\n",
       "\n",
       "    .dataframe thead th {\n",
       "        text-align: right;\n",
       "    }\n",
       "</style>\n",
       "<table border=\"1\" class=\"dataframe\">\n",
       "  <thead>\n",
       "    <tr style=\"text-align: right;\">\n",
       "      <th></th>\n",
       "      <th>time_stamp</th>\n",
       "      <th>visited</th>\n",
       "      <th>object_id</th>\n",
       "      <th>creation_time</th>\n",
       "      <th>name</th>\n",
       "      <th>email</th>\n",
       "      <th>creation_source</th>\n",
       "      <th>opted_in_to_mailing_list</th>\n",
       "      <th>enabled_for_marketing_drip</th>\n",
       "      <th>org_id</th>\n",
       "      <th>invited_by_user_id</th>\n",
       "    </tr>\n",
       "  </thead>\n",
       "  <tbody>\n",
       "    <tr>\n",
       "      <th>0</th>\n",
       "      <td>2014-04-22 03:53:30</td>\n",
       "      <td>1.0</td>\n",
       "      <td>1</td>\n",
       "      <td>2014-04-22 03:53:30</td>\n",
       "      <td>Clausen August</td>\n",
       "      <td>AugustCClausen@yahoo.com</td>\n",
       "      <td>GUEST_INVITE</td>\n",
       "      <td>1</td>\n",
       "      <td>0</td>\n",
       "      <td>11</td>\n",
       "      <td>10803.0</td>\n",
       "    </tr>\n",
       "    <tr>\n",
       "      <th>1</th>\n",
       "      <td>2013-11-15 03:45:04</td>\n",
       "      <td>1.0</td>\n",
       "      <td>2</td>\n",
       "      <td>2013-11-15 03:45:04</td>\n",
       "      <td>Poole Matthew</td>\n",
       "      <td>MatthewPoole@gustr.com</td>\n",
       "      <td>ORG_INVITE</td>\n",
       "      <td>0</td>\n",
       "      <td>0</td>\n",
       "      <td>1</td>\n",
       "      <td>316.0</td>\n",
       "    </tr>\n",
       "    <tr>\n",
       "      <th>2</th>\n",
       "      <td>2013-11-29 03:45:04</td>\n",
       "      <td>1.0</td>\n",
       "      <td>2</td>\n",
       "      <td>2013-11-15 03:45:04</td>\n",
       "      <td>Poole Matthew</td>\n",
       "      <td>MatthewPoole@gustr.com</td>\n",
       "      <td>ORG_INVITE</td>\n",
       "      <td>0</td>\n",
       "      <td>0</td>\n",
       "      <td>1</td>\n",
       "      <td>316.0</td>\n",
       "    </tr>\n",
       "    <tr>\n",
       "      <th>3</th>\n",
       "      <td>2013-12-09 03:45:04</td>\n",
       "      <td>1.0</td>\n",
       "      <td>2</td>\n",
       "      <td>2013-11-15 03:45:04</td>\n",
       "      <td>Poole Matthew</td>\n",
       "      <td>MatthewPoole@gustr.com</td>\n",
       "      <td>ORG_INVITE</td>\n",
       "      <td>0</td>\n",
       "      <td>0</td>\n",
       "      <td>1</td>\n",
       "      <td>316.0</td>\n",
       "    </tr>\n",
       "    <tr>\n",
       "      <th>4</th>\n",
       "      <td>2013-12-25 03:45:04</td>\n",
       "      <td>1.0</td>\n",
       "      <td>2</td>\n",
       "      <td>2013-11-15 03:45:04</td>\n",
       "      <td>Poole Matthew</td>\n",
       "      <td>MatthewPoole@gustr.com</td>\n",
       "      <td>ORG_INVITE</td>\n",
       "      <td>0</td>\n",
       "      <td>0</td>\n",
       "      <td>1</td>\n",
       "      <td>316.0</td>\n",
       "    </tr>\n",
       "  </tbody>\n",
       "</table>\n",
       "</div>"
      ],
      "text/plain": [
       "            time_stamp  visited  object_id        creation_time  \\\n",
       "0  2014-04-22 03:53:30      1.0          1  2014-04-22 03:53:30   \n",
       "1  2013-11-15 03:45:04      1.0          2  2013-11-15 03:45:04   \n",
       "2  2013-11-29 03:45:04      1.0          2  2013-11-15 03:45:04   \n",
       "3  2013-12-09 03:45:04      1.0          2  2013-11-15 03:45:04   \n",
       "4  2013-12-25 03:45:04      1.0          2  2013-11-15 03:45:04   \n",
       "\n",
       "             name                     email creation_source  \\\n",
       "0  Clausen August  AugustCClausen@yahoo.com    GUEST_INVITE   \n",
       "1   Poole Matthew    MatthewPoole@gustr.com      ORG_INVITE   \n",
       "2   Poole Matthew    MatthewPoole@gustr.com      ORG_INVITE   \n",
       "3   Poole Matthew    MatthewPoole@gustr.com      ORG_INVITE   \n",
       "4   Poole Matthew    MatthewPoole@gustr.com      ORG_INVITE   \n",
       "\n",
       "   opted_in_to_mailing_list  enabled_for_marketing_drip  org_id  \\\n",
       "0                         1                           0      11   \n",
       "1                         0                           0       1   \n",
       "2                         0                           0       1   \n",
       "3                         0                           0       1   \n",
       "4                         0                           0       1   \n",
       "\n",
       "   invited_by_user_id  \n",
       "0             10803.0  \n",
       "1               316.0  \n",
       "2               316.0  \n",
       "3               316.0  \n",
       "4               316.0  "
      ]
     },
     "execution_count": 5,
     "metadata": {},
     "output_type": "execute_result"
    }
   ],
   "source": [
    "# Join tables on user_id\n",
    "df = df2.merge(right=df1, how='outer', left_on='user_id', right_on='object_id')\n",
    "df.drop(['user_id', 'last_session_creation_time'], axis=1, inplace=True)\n",
    "# Examine merged dataframe\n",
    "df.info()\n",
    "df.head()"
   ]
  },
  {
   "cell_type": "code",
   "execution_count": 6,
   "metadata": {
    "collapsed": true
   },
   "outputs": [],
   "source": [
    "# Deal with missing data by setting to 0\n",
    "df['invited_by_user_id'].fillna(0, inplace=True) \n",
    "df['time_stamp'].fillna(0, inplace=True)\n",
    "df['visited'].fillna(0,inplace=True)\n",
    "\n",
    "df1['invited_by_user_id'].fillna(0, inplace=True) "
   ]
  },
  {
   "cell_type": "code",
   "execution_count": 7,
   "metadata": {
    "collapsed": true
   },
   "outputs": [],
   "source": [
    "# Set datetime objects \n",
    "df['time_stamp'] = pd.to_datetime(df['time_stamp'])\n",
    "df['creation_time'] = pd.to_datetime(df['creation_time'])"
   ]
  },
  {
   "cell_type": "code",
   "execution_count": 8,
   "metadata": {
    "collapsed": true
   },
   "outputs": [],
   "source": [
    "# Sort values by user and timestamp, set index to user\n",
    "df.sort_values(['object_id', 'time_stamp']).set_index(['object_id'], inplace=True)"
   ]
  },
  {
   "cell_type": "markdown",
   "metadata": {},
   "source": [
    "### 3. Feature Engineering"
   ]
  },
  {
   "cell_type": "code",
   "execution_count": 9,
   "metadata": {},
   "outputs": [
    {
     "data": {
      "text/plain": [
       "2248"
      ]
     },
     "execution_count": 9,
     "metadata": {},
     "output_type": "execute_result"
    }
   ],
   "source": [
    "# Determine how many users adopted\n",
    "(df.groupby('object_id')['time_stamp'].count() >= 3).sum()"
   ]
  },
  {
   "cell_type": "code",
   "execution_count": 10,
   "metadata": {},
   "outputs": [
    {
     "name": "stderr",
     "output_type": "stream",
     "text": [
      "/Users/tami/anaconda/lib/python3.6/site-packages/ipykernel_launcher.py:9: SettingWithCopyWarning: \n",
      "A value is trying to be set on a copy of a slice from a DataFrame\n",
      "\n",
      "See the caveats in the documentation: http://pandas.pydata.org/pandas-docs/stable/indexing.html#indexing-view-versus-copy\n",
      "  if __name__ == '__main__':\n"
     ]
    },
    {
     "name": "stdout",
     "output_type": "stream",
     "text": [
      "3213.3673849105835\n"
     ]
    }
   ],
   "source": [
    "start = time()\n",
    "# Initialize adopted feature\n",
    "df['adopted'] = np.zeros(df.shape[0])\n",
    "\n",
    "# Create feature indicating whether a user adopted\n",
    "for t in range(2, df.shape[0]):  #211094  # loop over each timestep\n",
    "    if df['object_id'][t] == df['object_id'][t-2]:   # if it is the same user over the previous 3 time steps\n",
    "        if (df['time_stamp'][t] - df['time_stamp'][t-2]) < pd.Timedelta('7 days'): # if previous 3 time steps are within 7 days\n",
    "            df['adopted'][t] = 1\n",
    "print(time()-start)"
   ]
  },
  {
   "cell_type": "code",
   "execution_count": 11,
   "metadata": {
    "collapsed": true
   },
   "outputs": [],
   "source": [
    "# Initialize array\n",
    "adopted = np.zeros(df1.shape[0])\n",
    "\n",
    "# Create array adopted that indicates whether a user adopted\n",
    "for t in range(2, df1.shape[0]): #12000\n",
    "    if (df['adopted'].iloc[t] > 0):\n",
    "        # if df[object_id][adopted] true, then adopted[object_id] true\n",
    "        user = df['object_id'].iloc[t]\n",
    "        adopted[user] = 1"
   ]
  },
  {
   "cell_type": "code",
   "execution_count": 12,
   "metadata": {
    "collapsed": true
   },
   "outputs": [],
   "source": [
    "# Set indext of df1\n",
    "df1.set_index('object_id', inplace=True)\n",
    "\n",
    "# Add column adopted to df1\n",
    "df1['adopted'] = pd.Series(adopted, index=(df1.index-1))"
   ]
  },
  {
   "cell_type": "code",
   "execution_count": 14,
   "metadata": {},
   "outputs": [
    {
     "name": "stderr",
     "output_type": "stream",
     "text": [
      "/Users/tami/anaconda/lib/python3.6/site-packages/ipykernel_launcher.py:6: SettingWithCopyWarning: \n",
      "A value is trying to be set on a copy of a slice from a DataFrame\n",
      "\n",
      "See the caveats in the documentation: http://pandas.pydata.org/pandas-docs/stable/indexing.html#indexing-view-versus-copy\n",
      "  \n",
      "/Users/tami/anaconda/lib/python3.6/site-packages/pandas/core/indexing.py:194: SettingWithCopyWarning: \n",
      "A value is trying to be set on a copy of a slice from a DataFrame\n",
      "\n",
      "See the caveats in the documentation: http://pandas.pydata.org/pandas-docs/stable/indexing.html#indexing-view-versus-copy\n",
      "  self._setitem_with_indexer(indexer, value)\n"
     ]
    }
   ],
   "source": [
    "# Initialize creation_dow feature\n",
    "df1['creation_dow'] = np.zeros(df1.shape[0])\n",
    "\n",
    "# Create day-of-week feature from creation_time\n",
    "for t in range(2, 12000):\n",
    "    df1['creation_dow'][t] = calendar.day_name[pd.to_datetime(df1['creation_time'].iloc[t]).weekday()]\n",
    "    "
   ]
  },
  {
   "cell_type": "markdown",
   "metadata": {},
   "source": [
    "### 4. EDA"
   ]
  },
  {
   "cell_type": "code",
   "execution_count": 16,
   "metadata": {},
   "outputs": [
    {
     "data": {
      "text/html": [
       "<div>\n",
       "<style scoped>\n",
       "    .dataframe tbody tr th:only-of-type {\n",
       "        vertical-align: middle;\n",
       "    }\n",
       "\n",
       "    .dataframe tbody tr th {\n",
       "        vertical-align: top;\n",
       "    }\n",
       "\n",
       "    .dataframe thead th {\n",
       "        text-align: right;\n",
       "    }\n",
       "</style>\n",
       "<table border=\"1\" class=\"dataframe\">\n",
       "  <thead>\n",
       "    <tr style=\"text-align: right;\">\n",
       "      <th></th>\n",
       "      <th>last_session_creation_time</th>\n",
       "      <th>opted_in_to_mailing_list</th>\n",
       "      <th>enabled_for_marketing_drip</th>\n",
       "      <th>org_id</th>\n",
       "      <th>invited_by_user_id</th>\n",
       "      <th>adopted</th>\n",
       "    </tr>\n",
       "  </thead>\n",
       "  <tbody>\n",
       "    <tr>\n",
       "      <th>count</th>\n",
       "      <td>8.823000e+03</td>\n",
       "      <td>12000.000000</td>\n",
       "      <td>12000.000000</td>\n",
       "      <td>12000.000000</td>\n",
       "      <td>12000.000000</td>\n",
       "      <td>11999.000000</td>\n",
       "    </tr>\n",
       "    <tr>\n",
       "      <th>mean</th>\n",
       "      <td>1.379279e+09</td>\n",
       "      <td>0.249500</td>\n",
       "      <td>0.149333</td>\n",
       "      <td>141.884583</td>\n",
       "      <td>3188.691333</td>\n",
       "      <td>0.008417</td>\n",
       "    </tr>\n",
       "    <tr>\n",
       "      <th>std</th>\n",
       "      <td>1.953116e+07</td>\n",
       "      <td>0.432742</td>\n",
       "      <td>0.356432</td>\n",
       "      <td>124.056723</td>\n",
       "      <td>3869.027693</td>\n",
       "      <td>0.091363</td>\n",
       "    </tr>\n",
       "    <tr>\n",
       "      <th>min</th>\n",
       "      <td>1.338452e+09</td>\n",
       "      <td>0.000000</td>\n",
       "      <td>0.000000</td>\n",
       "      <td>0.000000</td>\n",
       "      <td>0.000000</td>\n",
       "      <td>0.000000</td>\n",
       "    </tr>\n",
       "    <tr>\n",
       "      <th>25%</th>\n",
       "      <td>1.363195e+09</td>\n",
       "      <td>0.000000</td>\n",
       "      <td>0.000000</td>\n",
       "      <td>29.000000</td>\n",
       "      <td>0.000000</td>\n",
       "      <td>0.000000</td>\n",
       "    </tr>\n",
       "    <tr>\n",
       "      <th>50%</th>\n",
       "      <td>1.382888e+09</td>\n",
       "      <td>0.000000</td>\n",
       "      <td>0.000000</td>\n",
       "      <td>108.000000</td>\n",
       "      <td>875.000000</td>\n",
       "      <td>0.000000</td>\n",
       "    </tr>\n",
       "    <tr>\n",
       "      <th>75%</th>\n",
       "      <td>1.398443e+09</td>\n",
       "      <td>0.000000</td>\n",
       "      <td>0.000000</td>\n",
       "      <td>238.250000</td>\n",
       "      <td>6317.000000</td>\n",
       "      <td>0.000000</td>\n",
       "    </tr>\n",
       "    <tr>\n",
       "      <th>max</th>\n",
       "      <td>1.402067e+09</td>\n",
       "      <td>1.000000</td>\n",
       "      <td>1.000000</td>\n",
       "      <td>416.000000</td>\n",
       "      <td>11999.000000</td>\n",
       "      <td>1.000000</td>\n",
       "    </tr>\n",
       "  </tbody>\n",
       "</table>\n",
       "</div>"
      ],
      "text/plain": [
       "       last_session_creation_time  opted_in_to_mailing_list  \\\n",
       "count                8.823000e+03              12000.000000   \n",
       "mean                 1.379279e+09                  0.249500   \n",
       "std                  1.953116e+07                  0.432742   \n",
       "min                  1.338452e+09                  0.000000   \n",
       "25%                  1.363195e+09                  0.000000   \n",
       "50%                  1.382888e+09                  0.000000   \n",
       "75%                  1.398443e+09                  0.000000   \n",
       "max                  1.402067e+09                  1.000000   \n",
       "\n",
       "       enabled_for_marketing_drip        org_id  invited_by_user_id  \\\n",
       "count                12000.000000  12000.000000        12000.000000   \n",
       "mean                     0.149333    141.884583         3188.691333   \n",
       "std                      0.356432    124.056723         3869.027693   \n",
       "min                      0.000000      0.000000            0.000000   \n",
       "25%                      0.000000     29.000000            0.000000   \n",
       "50%                      0.000000    108.000000          875.000000   \n",
       "75%                      0.000000    238.250000         6317.000000   \n",
       "max                      1.000000    416.000000        11999.000000   \n",
       "\n",
       "            adopted  \n",
       "count  11999.000000  \n",
       "mean       0.008417  \n",
       "std        0.091363  \n",
       "min        0.000000  \n",
       "25%        0.000000  \n",
       "50%        0.000000  \n",
       "75%        0.000000  \n",
       "max        1.000000  "
      ]
     },
     "execution_count": 16,
     "metadata": {},
     "output_type": "execute_result"
    }
   ],
   "source": [
    "# Explore dataset\n",
    "df1.describe()"
   ]
  },
  {
   "cell_type": "markdown",
   "metadata": {},
   "source": [
    "On average:\n",
    "- 25% of users opted in to mailing list.\n",
    "- 15% of users enabled the marketing drip.\n",
    "- 0.84% of users adopted"
   ]
  },
  {
   "cell_type": "code",
   "execution_count": 66,
   "metadata": {},
   "outputs": [
    {
     "data": {
      "image/png": "[encoded data removed]",
      "text/plain": [
       "<matplotlib.figure.Figure at 0x11ae2a8d0>"
      ]
     },
     "metadata": {},
     "output_type": "display_data"
    }
   ],
   "source": [
    "# Explore Feature Colinearity\n",
    "_ = df1['adopted'].value_counts(ascending=True).plot(kind='bar', figsize=(4,5))\n",
    "_ = plt.title('Count of Adopted vs Unadopted Users ')\n",
    "_ = plt.xticks([0,1], ['Adopted', 'Unadopted'], rotation=30)\n",
    "_ = plt.yscale('log')\n",
    "_ = plt.ylabel('Count (log scale)')\n",
    "plt.savefig('adopted_users.png');"
   ]
  },
  {
   "cell_type": "code",
   "execution_count": 18,
   "metadata": {},
   "outputs": [
    {
     "name": "stdout",
     "output_type": "stream",
     "text": [
      "101  users adopted, out of  12000  total users.\n"
     ]
    }
   ],
   "source": [
    "print(int(df1['adopted'].sum()), ' users adopted, out of ', df1.shape[0],' total users.')"
   ]
  },
  {
   "cell_type": "code",
   "execution_count": 19,
   "metadata": {},
   "outputs": [
    {
     "data": {
      "image/png": "[encoded data removed]",
      "text/plain": [
       "<matplotlib.figure.Figure at 0x1182d7c18>"
      ]
     },
     "metadata": {},
     "output_type": "display_data"
    }
   ],
   "source": [
    "_ = pd.crosstab(df1['opted_in_to_mailing_list'], df1['adopted']).plot(kind='bar', figsize=(8,5))\n",
    "_ = plt.title('Adopted Users by Mailing List status')\n",
    "_ = plt.xlabel('Mailing list')\n",
    "_ = plt.xticks([0,1], ['Opted in','Opted out'], rotation=30)\n",
    "_ = plt.ylabel('Count (log scale)')\n",
    "_ = plt.yscale('log')\n",
    "_ = plt.legend(['Unadopted', 'Adopted'])"
   ]
  },
  {
   "cell_type": "markdown",
   "metadata": {},
   "source": [
    "- No obvious relationship between mailing list status and whether or not users adopted."
   ]
  },
  {
   "cell_type": "code",
   "execution_count": 20,
   "metadata": {},
   "outputs": [
    {
     "data": {
      "image/png": "[encoded data removed]",
      "text/plain": [
       "<matplotlib.figure.Figure at 0x1182637f0>"
      ]
     },
     "metadata": {},
     "output_type": "display_data"
    }
   ],
   "source": [
    "_ = pd.crosstab(df1['enabled_for_marketing_drip'], df1['adopted']).plot(kind='bar', figsize=(8,5))\n",
    "_ = plt.title('Adopted Users by Marketing Drip status')\n",
    "_ = plt.xlabel('Marketing Drip')\n",
    "_ = plt.xticks([0,1], ['Enabled','Disabled'], rotation=30)\n",
    "_ = plt.ylabel('Count (log scale)')\n",
    "_ = plt.yscale('log')\n",
    "_ = plt.legend(['Unadopted', 'Adopted'])"
   ]
  },
  {
   "cell_type": "markdown",
   "metadata": {},
   "source": [
    "- No obvious relationship between marketing drip status and whether or not users adopted."
   ]
  },
  {
   "cell_type": "code",
   "execution_count": 67,
   "metadata": {},
   "outputs": [
    {
     "data": {
      "image/png": "[encoded data removed]",
      "text/plain": [
       "<matplotlib.figure.Figure at 0x11c2e6278>"
      ]
     },
     "metadata": {},
     "output_type": "display_data"
    }
   ],
   "source": [
    "_ = pd.crosstab(df1['creation_source'], df1['adopted']).plot(kind='bar', figsize=(8,5))\n",
    "_ = plt.title('Adopted Users by Creation Source')\n",
    "_ = plt.xlabel('Creation Source')\n",
    "_ = plt.xticks([0,1, 2, 3, 4], ['Guest Invite','Org Invite', 'Personal Projects', 'Signup', 'Signup Google']\n",
    "               , rotation=60)\n",
    "_ = plt.ylabel('Count (log scale)')\n",
    "_ = plt.yscale('log')\n",
    "_ = plt.legend(['Unadopted', 'Adopted'])\n",
    "plt.savefig('adoption_by_creation_source.png');"
   ]
  },
  {
   "cell_type": "markdown",
   "metadata": {},
   "source": [
    "- `creation_source` appears to be a good predictor for adoption. \n",
    "- Users who **create their accounts via  GUEST_INVITE, ORG_INVITE, and SIGNUP are more likely to adopt** than those who create their account via PERSONAL_PROJECTS or SIGNUP_GOOGLE_AUTH."
   ]
  },
  {
   "cell_type": "code",
   "execution_count": 68,
   "metadata": {},
   "outputs": [
    {
     "data": {
      "image/png": "[encoded data removed]",
      "text/plain": [
       "<matplotlib.figure.Figure at 0x11af1c240>"
      ]
     },
     "metadata": {},
     "output_type": "display_data"
    }
   ],
   "source": [
    "_ = pd.crosstab(df1['creation_dow'], df1['adopted']).plot(kind='bar', figsize=(8,5))\n",
    "_ = plt.title('Adopted Users by Creation DOW')\n",
    "_ = plt.xlabel('Creation Day-of-Week')\n",
    "_ = plt.xlim(0,8)\n",
    "_ = plt.xticks(rotation=60)\n",
    "_ = plt.ylabel('Count (log scale)')\n",
    "_ = plt.yscale('log')\n",
    "_ = plt.legend(['Unadopted', 'Adopted'])\n",
    "plt.savefig('adoption_by_creation_dow.png');"
   ]
  },
  {
   "cell_type": "markdown",
   "metadata": {},
   "source": [
    "- `creation_dow` appears to be a good predictor for adoption. \n",
    "- Users who **created their accounts on Monday, Tuesday, Wednesday, Thursday, and Saturday are more likely to adopt** than those who create their accounts on Friday or Sunday"
   ]
  },
  {
   "cell_type": "markdown",
   "metadata": {},
   "source": [
    "### 5. Supervised Classification"
   ]
  },
  {
   "cell_type": "markdown",
   "metadata": {},
   "source": [
    "Since the classes are imbalanced and most of the predictive variables are categorical, I will use a tree-based method."
   ]
  },
  {
   "cell_type": "code",
   "execution_count": 69,
   "metadata": {
    "collapsed": true
   },
   "outputs": [],
   "source": [
    "# Set categoricals to dummy variables\n",
    "df1_with_dummies = pd.get_dummies(df1, columns=['creation_source', 'creation_dow', 'org_id', 'invited_by_user_id'], drop_first=True)"
   ]
  },
  {
   "cell_type": "code",
   "execution_count": 70,
   "metadata": {
    "collapsed": true
   },
   "outputs": [],
   "source": [
    "# Define target and predictive variables\n",
    "y = df1['adopted']\n",
    "\n",
    "# Drop name and email from X because those are not things that can be leveraged.\n",
    "# Drop last_session_creation_time and creation_time from X because it is not informative for \n",
    "# determining in advance whether a user will adopt. \n",
    "X = df1_with_dummies.drop(['adopted', 'last_session_creation_time', 'name', 'email', 'creation_time'], axis=1)"
   ]
  },
  {
   "cell_type": "code",
   "execution_count": 71,
   "metadata": {
    "collapsed": true
   },
   "outputs": [],
   "source": [
    "# Train-test split (70%-30%)\n",
    "Xtrain, Xtest, ytrain, ytest = train_test_split(X.iloc[2:], y.iloc[2:], train_size=0.7, random_state=42)"
   ]
  },
  {
   "cell_type": "code",
   "execution_count": 72,
   "metadata": {},
   "outputs": [
    {
     "data": {
      "text/plain": [
       "0"
      ]
     },
     "execution_count": 72,
     "metadata": {},
     "output_type": "execute_result"
    }
   ],
   "source": [
    "ytrain.isnull().sum()"
   ]
  },
  {
   "cell_type": "code",
   "execution_count": 73,
   "metadata": {},
   "outputs": [
    {
     "data": {
      "text/plain": [
       "RandomForestClassifier(bootstrap=True, class_weight=None, criterion='gini',\n",
       "            max_depth=None, max_features='auto', max_leaf_nodes=None,\n",
       "            min_impurity_split=1e-07, min_samples_leaf=1,\n",
       "            min_samples_split=2, min_weight_fraction_leaf=0.0,\n",
       "            n_estimators=10, n_jobs=1, oob_score=False, random_state=None,\n",
       "            verbose=0, warm_start=False)"
      ]
     },
     "execution_count": 73,
     "metadata": {},
     "output_type": "execute_result"
    }
   ],
   "source": [
    "# Build classifier\n",
    "rfc = RandomForestClassifier()\n",
    "# Train\n",
    "rfc.fit(Xtrain, ytrain)\n",
    "# Predict\n",
    "ypred = rfc.predict(Xtest)"
   ]
  },
  {
   "cell_type": "code",
   "execution_count": 74,
   "metadata": {
    "collapsed": true
   },
   "outputs": [],
   "source": [
    "# Cast as integers so we can calculate metrics\n",
    "ypred = (ypred>0.5).astype(int)\n",
    "ytest = (ytest>0.5).astype(int)"
   ]
  },
  {
   "cell_type": "code",
   "execution_count": 80,
   "metadata": {},
   "outputs": [
    {
     "name": "stdout",
     "output_type": "stream",
     "text": [
      "Random Forest predicts on unseen data with 99.0555555556 % accuracy.\n"
     ]
    }
   ],
   "source": [
    "# Calculate performance Metrics\n",
    "print('Random Forest predicts on unseen data with', (accuracy_score(ytest, ypred))*100, '% accuracy.' )"
   ]
  },
  {
   "cell_type": "code",
   "execution_count": 81,
   "metadata": {},
   "outputs": [
    {
     "data": {
      "text/html": [
       "<div>\n",
       "<style scoped>\n",
       "    .dataframe tbody tr th:only-of-type {\n",
       "        vertical-align: middle;\n",
       "    }\n",
       "\n",
       "    .dataframe tbody tr th {\n",
       "        vertical-align: top;\n",
       "    }\n",
       "\n",
       "    .dataframe thead th {\n",
       "        text-align: right;\n",
       "    }\n",
       "</style>\n",
       "<table border=\"1\" class=\"dataframe\">\n",
       "  <thead>\n",
       "    <tr style=\"text-align: right;\">\n",
       "      <th></th>\n",
       "      <th>features</th>\n",
       "      <th>importance</th>\n",
       "    </tr>\n",
       "  </thead>\n",
       "  <tbody>\n",
       "    <tr>\n",
       "      <th>2</th>\n",
       "      <td>creation_source_ORG_INVITE</td>\n",
       "      <td>0.038983</td>\n",
       "    </tr>\n",
       "    <tr>\n",
       "      <th>8</th>\n",
       "      <td>creation_dow_Saturday</td>\n",
       "      <td>0.037862</td>\n",
       "    </tr>\n",
       "    <tr>\n",
       "      <th>0</th>\n",
       "      <td>opted_in_to_mailing_list</td>\n",
       "      <td>0.031750</td>\n",
       "    </tr>\n",
       "    <tr>\n",
       "      <th>7</th>\n",
       "      <td>creation_dow_Monday</td>\n",
       "      <td>0.031230</td>\n",
       "    </tr>\n",
       "    <tr>\n",
       "      <th>11</th>\n",
       "      <td>creation_dow_Tuesday</td>\n",
       "      <td>0.029947</td>\n",
       "    </tr>\n",
       "    <tr>\n",
       "      <th>9</th>\n",
       "      <td>creation_dow_Sunday</td>\n",
       "      <td>0.027663</td>\n",
       "    </tr>\n",
       "    <tr>\n",
       "      <th>4</th>\n",
       "      <td>creation_source_SIGNUP</td>\n",
       "      <td>0.026906</td>\n",
       "    </tr>\n",
       "    <tr>\n",
       "      <th>12</th>\n",
       "      <td>creation_dow_Wednesday</td>\n",
       "      <td>0.026780</td>\n",
       "    </tr>\n",
       "    <tr>\n",
       "      <th>6</th>\n",
       "      <td>creation_dow_Friday</td>\n",
       "      <td>0.024093</td>\n",
       "    </tr>\n",
       "    <tr>\n",
       "      <th>10</th>\n",
       "      <td>creation_dow_Thursday</td>\n",
       "      <td>0.020128</td>\n",
       "    </tr>\n",
       "  </tbody>\n",
       "</table>\n",
       "</div>"
      ],
      "text/plain": [
       "                      features  importance\n",
       "2   creation_source_ORG_INVITE    0.038983\n",
       "8        creation_dow_Saturday    0.037862\n",
       "0     opted_in_to_mailing_list    0.031750\n",
       "7          creation_dow_Monday    0.031230\n",
       "11        creation_dow_Tuesday    0.029947\n",
       "9          creation_dow_Sunday    0.027663\n",
       "4       creation_source_SIGNUP    0.026906\n",
       "12      creation_dow_Wednesday    0.026780\n",
       "6          creation_dow_Friday    0.024093\n",
       "10       creation_dow_Thursday    0.020128"
      ]
     },
     "execution_count": 81,
     "metadata": {},
     "output_type": "execute_result"
    }
   ],
   "source": [
    "# Put the feature_importances_ in a dataframe\n",
    "imp_feats = pd.DataFrame({'features':np.array(X.columns), 'importance':rfc.feature_importances_})\n",
    "imp_feats.sort_values('importance', ascending=False, inplace=True)\n",
    "imp_feats.head(10)"
   ]
  }
 ],
 "metadata": {
  "kernelspec": {
   "display_name": "Python 3",
   "language": "python",
   "name": "python3"
  },
  "language_info": {
   "codemirror_mode": {
    "name": "ipython",
    "version": 3
   },
   "file_extension": ".py",
   "mimetype": "text/x-python",
   "name": "python",
   "nbconvert_exporter": "python",
   "pygments_lexer": "ipython3",
   "version": "3.6.1"
  }
 },
 "nbformat": 4,
 "nbformat_minor": 2
}
