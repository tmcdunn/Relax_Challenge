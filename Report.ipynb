{
 "cells": [
  {
   "cell_type": "markdown",
   "metadata": {
    "collapsed": true
   },
   "source": [
    "# Relax Challenge\n",
    "\n",
    "Tamara Monge"
   ]
  },
  {
   "cell_type": "markdown",
   "metadata": {
    "slideshow": {
     "slide_type": "slide"
    }
   },
   "source": [
    "\n",
    "**Objective: ** The objective of this challenge is to identify which factors predict future user adoption. "
   ]
  },
  {
   "cell_type": "markdown",
   "metadata": {},
   "source": [
    "** Client: ** The client is the productivity and project management software company, Relax. "
   ]
  },
  {
   "cell_type": "markdown",
   "metadata": {},
   "source": [
    "** Data Wrangling steps:** \n",
    "The data came as CSV files which allowed them to be imported as pandas dataframes. The two dataframes were joined. Missing values were set to 0. Datetime variables were set to datetime objects. The index of the dataframe was set as the user id. "
   ]
  },
  {
   "cell_type": "markdown",
   "metadata": {},
   "source": [
    "** Feature Engineering: ** A feature `adopted` was created to indicate whether or not a user had adopted. Another feature `creation_dow` was created to indicate the day of the week the account was created."
   ]
  },
  {
   "cell_type": "markdown",
   "metadata": {},
   "source": [
    "** Exploratory Data Analysis: **\n",
    "Approximately 0.84% of users adopted (figure below). ![title](adopted_users.png) \n",
    "\n",
    "Visual inspection of the explanatory variables revealed that `creation_source` and `creation_dow` may be a meaningful predictors of whether a user adopts (figures below). ![title](adoption_by_creation_source.png) ![title](adoption_by_creation_dow.png)"
   ]
  },
  {
   "cell_type": "markdown",
   "metadata": {},
   "source": [
    "** Supervised Classification: ** I treated this is a supervised classification problem with `adopted` as the target variable and the other features as the predictive variables. \n",
    "\n",
    "I decided to go with a tree-based classifier for two reasons: 1) they do well with imbalanced classes, such as our dataset, and 2) they do well with many categorical features, such as our dataset. I selected the random forest because it is less prone to overfitting than the decision tree and feature importances can still be extracted. \n",
    "\n",
    "I split the data for training and testing using a 70%-30% random split. \n",
    "\n",
    "The model was fit on the training set. It was then tested on the test set to evaluate its performance on unseen data. On unseen data, the random forest model predicted which users will adopt with 99% accuracy. "
   ]
  },
  {
   "cell_type": "markdown",
   "metadata": {},
   "source": [
    "** Results:** The 10 factors that best predict future user adoption are shown below: \n",
    "\n",
    "Feature | Importance\n",
    ":---|:---:\n",
    "creation_source_ORG_INVITE | 0.037\n",
    "opted_in_to_mailing_list |0.036\n",
    "creation_dow_WEDNESDAY | 0.034\n",
    "creation_source_SIGNUP | 0.032\n",
    "creation_dow_MONDAY | 0.032\n",
    "enabled_for_marketing_drip | 0.28\n",
    "creation_dow_TUESDAY | 0.26\n",
    "creation_dow_THURSDAY | 0.23\n",
    "creation_source_SIGNUP_GOOGLE_AUTH | 0.22\n",
    "creation_dow_FRIDAY | 0.21"
   ]
  },
  {
   "cell_type": "markdown",
   "metadata": {},
   "source": [
    "** Client recommendation: **\n",
    "- Users most likely to adopt are those who: create their account via ORG_INVITE or SIGNUP, create their account on a Monday, Tuesday, Wednesday, or Thursday, enable marketing drip, and/or opt in to the mailing list.\n",
    "\n",
    "- **To increase adoption, focus more marketing attention on users who: create their account via SIGNUP_GOOGLE_AUTH, create their account on a Friday, disable marketing drip, and/or opt out of the mailing list.**"
   ]
  },
  {
   "cell_type": "markdown",
   "metadata": {},
   "source": [
    "---------\n",
    "__Copyright 2018 Tamara Monge__"
   ]
  }
 ],
 "metadata": {
  "kernelspec": {
   "display_name": "Python 3",
   "language": "python",
   "name": "python3"
  },
  "language_info": {
   "codemirror_mode": {
    "name": "ipython",
    "version": 3
   },
   "file_extension": ".py",
   "mimetype": "text/x-python",
   "name": "python",
   "nbconvert_exporter": "python",
   "pygments_lexer": "ipython3",
   "version": "3.6.1"
  }
 },
 "nbformat": 4,
 "nbformat_minor": 2
}
